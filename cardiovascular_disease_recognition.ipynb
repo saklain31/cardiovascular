{
  "nbformat": 4,
  "nbformat_minor": 0,
  "metadata": {
    "colab": {
      "name": "cardiovascular disease recognition ",
      "version": "0.3.2",
      "provenance": [],
      "collapsed_sections": []
    },
    "kernelspec": {
      "name": "python3",
      "display_name": "Python 3"
    }
  },
  "cells": [
    {
      "cell_type": "code",
      "metadata": {
        "id": "tgnnVV9LjTt_",
        "colab_type": "code",
        "colab": {}
      },
      "source": [
        "from sklearn.model_selection import train_test_split\n",
        "from sklearn.naive_bayes import GaussianNB\n",
        "from sklearn.metrics import accuracy_score, confusion_matrix\n",
        "from sklearn.linear_model import LogisticRegression\n",
        "from sklearn.svm import SVC, LinearSVC, NuSVC\n",
        "from sklearn.metrics import classification_report\n",
        "\n"
      ],
      "execution_count": 0,
      "outputs": []
    },
    {
      "cell_type": "code",
      "metadata": {
        "id": "OZXv-aB6fDIF",
        "colab_type": "code",
        "colab": {}
      },
      "source": [
        "import pandas as pd\n",
        "\n",
        "file=open(\"cardio_train.csv\" , \"r\")\n",
        "\n",
        "data = pd.read_csv(file)\n",
        "datalist = data.values.tolist()\n",
        "\n",
        "print(type(datalist))\n",
        "\n",
        "processed_data = []\n",
        "labels = []\n",
        "\n",
        "for i in range(len(datalist)):\n",
        "  temp = [float(elem) for elem in datalist[i][0].split(';')]\n",
        "  labels.append(int(temp[len(temp)-1]))\n",
        "  temp.pop(2)\n",
        "#   temp.pop(2)\n",
        "\n",
        "  temp[3] = temp[3]/(temp[2]*temp[2])\n",
        "  temp.pop(2)\n",
        "  processed_data.append(temp[1:(len(temp)-1)])\n",
        "  \n",
        "  \n",
        "  \n",
        "  \n",
        "print(len(processed_data))\n",
        "print(len(labels))\n",
        "\n",
        "print(processed_data[0])"
      ],
      "execution_count": 0,
      "outputs": []
    },
    {
      "cell_type": "code",
      "metadata": {
        "id": "0SR1ZKXAjD6F",
        "colab_type": "code",
        "colab": {}
      },
      "source": [
        "X_train, X_test, y_train, y_test = train_test_split(processed_data, labels, test_size=0.3, random_state = 42)"
      ],
      "execution_count": 0,
      "outputs": []
    },
    {
      "cell_type": "code",
      "metadata": {
        "id": "G14qxKqtjV21",
        "colab_type": "code",
        "colab": {}
      },
      "source": [
        "##### NAIVE BAYES\n",
        "\n",
        "nb =  GaussianNB()\n",
        "          \n",
        "nb.fit(X_train, y_train)\n",
        "\n",
        "\n",
        "from sklearn.metrics import classification_report\n",
        "y_pred = nb.predict(X_test)\n",
        "\n",
        "print('accuracy %s' % accuracy_score(y_pred, y_test))\n",
        "print(classification_report(y_test, y_pred))"
      ],
      "execution_count": 0,
      "outputs": []
    },
    {
      "cell_type": "code",
      "metadata": {
        "id": "IF8lNoevk-rA",
        "colab_type": "code",
        "colab": {}
      },
      "source": [
        "# Logistic Regression\n",
        "\n",
        "logreg = LogisticRegression(n_jobs=1, C=1e5)\n",
        "\n",
        "logreg.fit(X_train, y_train)\n",
        "\n",
        "y_pred = logreg.predict(X_test)\n",
        "\n",
        "print('accuracy %s' % accuracy_score(y_pred, y_test))\n",
        "print(classification_report(y_test, y_pred))"
      ],
      "execution_count": 0,
      "outputs": []
    },
    {
      "cell_type": "code",
      "metadata": {
        "id": "LAY5id9-kFsV",
        "colab_type": "code",
        "colab": {}
      },
      "source": [
        "######  SVM \n",
        "from sklearn.linear_model import SGDClassifier\n",
        "\n",
        "sgd = SGDClassifier(loss='hinge', penalty='l2',alpha=1e-3, random_state=42, max_iter=5, tol=None)\n",
        "\n",
        "sgd.fit(X_train, y_train)\n",
        "\n",
        "y_pred = sgd.predict(X_test)\n",
        "\n",
        "print('accuracy %s' % accuracy_score(y_pred, y_test))\n",
        "print(classification_report(y_test, y_pred))"
      ],
      "execution_count": 0,
      "outputs": []
    },
    {
      "cell_type": "code",
      "metadata": {
        "id": "JD0luR92prWY",
        "colab_type": "code",
        "colab": {}
      },
      "source": [
        "###### NuSvc\n",
        "\n",
        "from sklearn.svm import SVC\n",
        "\n",
        "clf = NuSVC(nu=.09, degree=5, kernel=\"linear\", probability=True)\n",
        "                \n",
        "temp = clf.fit(X_train, y_train)\n",
        "\n",
        "y_pred = clf.predict(X_test)\n",
        "\n",
        "print('accuracy %s' % accuracy_score(y_pred, y_test))\n",
        "print(classification_report(y_test, y_pred))\n",
        "\n",
        "\n",
        "# filename = 'svc_model_v2.sav'\n",
        "# pickle.dump(temp, open(filename, 'wb'))"
      ],
      "execution_count": 0,
      "outputs": []
    },
    {
      "cell_type": "code",
      "metadata": {
        "id": "GaIt7t4Cq0nt",
        "colab_type": "code",
        "colab": {}
      },
      "source": [
        "# Decision Tree\n",
        "\n",
        "from sklearn import tree\n",
        "\n",
        "clf = tree.DecisionTreeClassifier()\n",
        "temp = clf.fit(X_train, y_train)\n",
        "y_pred = clf.predict(X_test)\n",
        "\n",
        "print('accuracy %s' % accuracy_score(y_pred, y_test))\n",
        "print(classification_report(y_test, y_pred))\n",
        "\n"
      ],
      "execution_count": 0,
      "outputs": []
    },
    {
      "cell_type": "code",
      "metadata": {
        "id": "zmjL0rCKr0Mq",
        "colab_type": "code",
        "colab": {}
      },
      "source": [
        "for i in range(10):\n",
        "  print(processed_data[i])"
      ],
      "execution_count": 0,
      "outputs": []
    },
    {
      "cell_type": "code",
      "metadata": {
        "id": "SIkyKgo_tNZN",
        "colab_type": "code",
        "colab": {}
      },
      "source": [
        "# /import numpy as np\n",
        "# processed_data = np.asarray(processed_data)\n",
        "# labels = np.asarray(labels)\n",
        "# X_train, X_test, y_train, y_test = train_test_split(processed_data, labels, test_size=0.3, random_state = 42)\n",
        "\n",
        "processed_data\n",
        "len(X_train)"
      ],
      "execution_count": 0,
      "outputs": []
    },
    {
      "cell_type": "code",
      "metadata": {
        "id": "uK6G62UnsmCH",
        "colab_type": "code",
        "colab": {}
      },
      "source": [
        "import numpy as np\n",
        "from keras.models import Sequential\n",
        "from keras.layers import Dense\n",
        "\n",
        "model = Sequential()\n",
        "\n",
        "model.add(Dense(units=128, activation='relu', input_dim=9))\n",
        "model.add(Dense(units=64, activation='relu'))\n",
        "model.add(Dense(units=32, activation='softmax'))\n",
        "model.add(Dense(units=10, activation='softmax'))\n",
        "model.add(Dense(1, activation='sigmoid'))\n",
        "\n",
        "# compile the keras model\n",
        "model.compile(loss='binary_crossentropy', optimizer='sgd', metrics=['accuracy'])\n",
        "\n",
        "model.fit(np.array(X_train), np.array(y_train), epochs=100, batch_size=32)\n"
      ],
      "execution_count": 0,
      "outputs": []
    },
    {
      "cell_type": "code",
      "metadata": {
        "id": "JXOqABR25oEo",
        "colab_type": "code",
        "colab": {}
      },
      "source": [
        "loss_and_metrics = model.evaluate(np.array(X_test), np.array(y_test), batch_size=128)\n",
        "print(loss_and_metrics)"
      ],
      "execution_count": 0,
      "outputs": []
    }
  ]
}